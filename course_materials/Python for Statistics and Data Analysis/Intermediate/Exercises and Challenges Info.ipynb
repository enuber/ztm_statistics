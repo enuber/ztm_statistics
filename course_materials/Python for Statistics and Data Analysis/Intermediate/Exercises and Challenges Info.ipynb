{
 "cells": [
  {
   "cell_type": "markdown",
   "metadata": {
    "id": "a6bMVpNyXgXc"
   },
   "source": [
    "# Expense Report"
   ]
  },
  {
   "cell_type": "code",
   "execution_count": null,
   "metadata": {
    "id": "kli57mUbXiA-"
   },
   "outputs": [],
   "source": [
    "#Expense report\n",
    "monthly_expenses = [1200, 1350, 1050, 1450, 1150, 900, 1220]"
   ]
  },
  {
   "cell_type": "markdown",
   "metadata": {
    "id": "eSApU9XZYFos"
   },
   "source": [
    "# Movie Picker"
   ]
  },
  {
   "cell_type": "code",
   "execution_count": null,
   "metadata": {
    "id": "5HpmMeqFYH7u"
   },
   "outputs": [],
   "source": [
    "# Random Movie Picker: \n",
    "#Create a list of your favorite movies\n",
    "#write a program that randomly picks a movie to watch until you've seen them all.\n",
    "remaining_movies = ['The Matrix', 'Inception', 'The Dark Knight', \n",
    "                    'Avengers: Endgame', 'Interstellar']"
   ]
  },
  {
   "cell_type": "markdown",
   "metadata": {
    "id": "bgHvo33sryLM"
   },
   "source": [
    "# Magical pet sound"
   ]
  },
  {
   "cell_type": "code",
   "execution_count": null,
   "metadata": {
    "id": "MiifsHcBr0qi"
   },
   "outputs": [],
   "source": [
    "# Magical pet sound dictionary\n",
    "pet_sounds = {'mew': 'I am hungry', \n",
    "              'woof': 'I want to play', \n",
    "              'grr': 'I am angry'}"
   ]
  },
  {
   "cell_type": "markdown",
   "metadata": {
    "id": "BBFtUd3pjE8D"
   },
   "source": [
    "# Budgeting Mastermind"
   ]
  },
  {
   "cell_type": "code",
   "execution_count": null,
   "metadata": {
    "id": "ToAg0c8JjGru"
   },
   "outputs": [],
   "source": [
    "expenses = {'groceries': 0, 'entertainment': 0, 'shopping': 0, 'other': 0}\n",
    "income = {'salary': 0, 'investments': 0, 'other': 0}"
   ]
  },
  {
   "cell_type": "markdown",
   "metadata": {
    "id": "RH6NY1kRhzcL"
   },
   "source": [
    "# Treasure Hunt"
   ]
  },
  {
   "cell_type": "code",
   "execution_count": null,
   "metadata": {
    "id": "b-f9JqXuh9Hg"
   },
   "outputs": [],
   "source": [
    "# Game data\n",
    "locations = {\n",
    "    'start': {\n",
    "        'description': \"You are at the starting point. There are two paths: left and right.\",\n",
    "        'options': {'left': 'forest', 'right': 'cave'}\n",
    "    },\n",
    "    'forest': {\n",
    "        'description': \"You are in a dense forest. There are two paths: forward and backward.\",\n",
    "        'options': {'forward': 'river', 'backward': 'start'}\n",
    "    },\n",
    "    'cave': {\n",
    "        'description': \"You are inside a dark cave. There are two paths: forward and backward.\",\n",
    "        'options': {'forward': 'treasure', 'backward': 'start'}\n",
    "    },\n",
    "    'river': {\n",
    "        'description': \"You are at the edge of a roaring river. There is no way forward.\",\n",
    "        'options': {'backward': 'forest'}\n",
    "    },\n",
    "    'treasure': {\n",
    "        'description': \"You've found the treasure! Congratulations!\",\n",
    "        'options': {}\n",
    "    }\n",
    "}"
   ]
  },
  {
   "cell_type": "markdown",
   "metadata": {
    "id": "Jcp59uTKhw4M"
   },
   "source": [
    "# Recipe Converter"
   ]
  },
  {
   "cell_type": "code",
   "execution_count": null,
   "metadata": {
    "id": "VSzWyqNTgDMW"
   },
   "outputs": [],
   "source": [
    "# Ingredient list\n",
    "ingredients = [\n",
    "    {'name': 'flour', 'quantity': 200, 'unit': 'g'},\n",
    "    {'name': 'sugar', 'quantity': 100, 'unit': 'g'},\n",
    "    {'name': 'butter', 'quantity': 150, 'unit': 'g'},\n",
    "    {'name': 'eggs', 'quantity': 2, 'unit': 'pcs'},\n",
    "    {'name': 'vanilla extract', 'quantity': 5, 'unit': 'ml'}\n",
    "]\n",
    "\n",
    "# Conversion table\n",
    "conversion_table = {\n",
    "    'g': {'oz': 0.035274, 'cups': 0.00422675, 'tbsp': 0.067628, 'tsp': 0.202884},\n",
    "    'oz': {'g': 28.3495, 'cups': 0.119826, 'tbsp': 1.91722, 'tsp': 5.75167},\n",
    "    'cups': {'g': 236.588, 'oz': 8.3454, 'tbsp': 16, 'tsp': 48},\n",
    "    'tbsp': {'g': 14.7868, 'oz': 0.521594, 'cups': 0.0625, 'tsp': 3},\n",
    "    'tsp': {'g': 4.92892, 'oz': 0.173473, 'cups': 0.0208333, 'tbsp': 0.333333}\n",
    "}"
   ]
  }
 ],
 "metadata": {
  "colab": {
   "authorship_tag": "ABX9TyOJNqqXWSIpV2gXIcFCbIOe",
   "provenance": []
  },
  "kernelspec": {
   "display_name": "Python 3 (ipykernel)",
   "language": "python",
   "name": "python3"
  },
  "language_info": {
   "codemirror_mode": {
    "name": "ipython",
    "version": 3
   },
   "file_extension": ".py",
   "mimetype": "text/x-python",
   "name": "python",
   "nbconvert_exporter": "python",
   "pygments_lexer": "ipython3",
   "version": "3.11.7"
  }
 },
 "nbformat": 4,
 "nbformat_minor": 4
}
